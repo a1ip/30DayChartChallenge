{
 "cells": [
  {
   "cell_type": "markdown",
   "id": "f44a560a",
   "metadata": {},
   "source": [
    "# Import Export 2020\n",
    "\n",
    "Reading the data with pandas and joining and extracting product detailed files using fugue and duckdb\n",
    "\n",
    "Data Source: http://www.cepii.fr/CEPII/en/bdd_modele/bdd_modele_item.asp?id=37"
   ]
  },
  {
   "cell_type": "code",
   "execution_count": 1,
   "id": "9df35338",
   "metadata": {},
   "outputs": [],
   "source": [
    "import pandas as pd\n",
    "\n",
    "countries = pd.read_csv(\"../../data/BACI_HS17_V202201/country_codes_V202201.csv\", encoding='latin-1')\n",
    "ie_last = pd.read_csv(\"../../data/BACI_HS17_V202201/BACI_HS17_Y2020_V202201.csv\", encoding='latin-1')\n",
    "\n",
    "TOMATOES = 70200\n",
    "SAFFRON = 91020\n",
    "ICECREAM = 210500\n",
    "BEER = 220300"
   ]
  },
  {
   "cell_type": "markdown",
   "id": "b694fc71",
   "metadata": {},
   "source": [
    "Tutorial for working with Fugue and DuckDB\n",
    "- https://towardsdatascience.com/fugue-and-duckdb-fast-sql-code-in-python-e2e2dfc0f8eb\n",
    "- https://fugue-tutorials.readthedocs.io/tutorials/fugue_sql/operators.html"
   ]
  },
  {
   "cell_type": "code",
   "execution_count": 29,
   "id": "f07a8ef1",
   "metadata": {},
   "outputs": [
    {
     "data": {
      "application/javascript": [
       "\n",
       "require([\"codemirror/lib/codemirror\"]);\n",
       "function set(str) {\n",
       "    var obj = {}, words = str.split(\" \");\n",
       "    for (var i = 0; i < words.length; ++i) obj[words[i]] = true;\n",
       "    return obj;\n",
       "  }\n",
       "var fugue_keywords = \"fill hash rand even presort persist broadcast params process output outtransform rowcount concurrency prepartition zip print title save append parquet csv json single checkpoint weak strong deterministic yield connect sample seed take sub callback dataframe file\";\n",
       "CodeMirror.defineMIME(\"text/x-fsql\", {\n",
       "    name: \"sql\",\n",
       "    keywords: set(fugue_keywords + \" add after all alter analyze and anti archive array as asc at between bucket buckets by cache cascade case cast change clear cluster clustered codegen collection column columns comment commit compact compactions compute concatenate cost create cross cube current current_date current_timestamp database databases data dbproperties defined delete delimited deny desc describe dfs directories distinct distribute drop else end escaped except exchange exists explain export extended external false fields fileformat first following for format formatted from full function functions global grant group grouping having if ignore import in index indexes inner inpath inputformat insert intersect interval into is items join keys last lateral lazy left like limit lines list load local location lock locks logical macro map minus msck natural no not null nulls of on optimize option options or order out outer outputformat over overwrite partition partitioned partitions percent preceding principals purge range recordreader recordwriter recover reduce refresh regexp rename repair replace reset restrict revoke right rlike role roles rollback rollup row rows schema schemas select semi separated serde serdeproperties set sets show skewed sort sorted start statistics stored stratify struct table tables tablesample tblproperties temp temporary terminated then to touch transaction transactions transform true truncate unarchive unbounded uncache union unlock unset use using values view when where window with\"),\n",
       "    builtin: set(\"date datetime tinyint smallint int bigint boolean float double string binary timestamp decimal array map struct uniontype delimited serde sequencefile textfile rcfile inputformat outputformat\"),\n",
       "    atoms: set(\"false true null\"),\n",
       "    operatorChars: /^[*\\/+\\-%<>!=~&|^]/,\n",
       "    dateSQL: set(\"time\"),\n",
       "    support: set(\"ODBCdotTable doubleQuote zerolessFloat\")\n",
       "  });\n",
       "\n",
       "CodeMirror.modeInfo.push( {\n",
       "            name: \"Fugue SQL\",\n",
       "            mime: \"text/x-fsql\",\n",
       "            mode: \"sql\"\n",
       "          } );\n",
       "\n",
       "require(['notebook/js/codecell'], function(codecell) {\n",
       "    codecell.CodeCell.options_default.highlight_modes['magic_text/x-fsql'] = {'reg':[/%%fsql/]} ;\n",
       "    Jupyter.notebook.events.on('kernel_ready.Kernel', function(){\n",
       "    Jupyter.notebook.get_cells().map(function(cell){\n",
       "        if (cell.cell_type == 'code'){ cell.auto_highlight(); } }) ;\n",
       "    });\n",
       "  });\n"
      ],
      "text/plain": [
       "<IPython.core.display.Javascript object>"
      ]
     },
     "metadata": {},
     "output_type": "display_data"
    }
   ],
   "source": [
    "from fugue_notebook import setup\n",
    "import fugue_duckdb\n",
    "\n",
    "setup()"
   ]
  },
  {
   "cell_type": "code",
   "execution_count": 28,
   "id": "b973366f",
   "metadata": {},
   "outputs": [
    {
     "name": "stdout",
     "output_type": "stream",
     "text": [
      "ANTLR runtime and generated code versions disagree: 4.11.1!=4.10.1\n",
      "ANTLR runtime and generated code versions disagree: 4.11.1!=4.10.1\n"
     ]
    },
    {
     "data": {
      "text/html": [
       "<div>\n",
       "<style scoped>\n",
       "    .dataframe tbody tr th:only-of-type {\n",
       "        vertical-align: middle;\n",
       "    }\n",
       "\n",
       "    .dataframe tbody tr th {\n",
       "        vertical-align: top;\n",
       "    }\n",
       "\n",
       "    .dataframe thead th {\n",
       "        text-align: right;\n",
       "    }\n",
       "</style>\n",
       "<table border=\"1\" class=\"dataframe\">\n",
       "  <thead>\n",
       "    <tr style=\"text-align: right;\">\n",
       "      <th></th>\n",
       "      <th>country_code</th>\n",
       "      <th>country_name_abbreviation</th>\n",
       "      <th>country_name_full</th>\n",
       "      <th>iso_2digit_alpha</th>\n",
       "      <th>iso_3digit_alpha</th>\n",
       "    </tr>\n",
       "  </thead>\n",
       "  <tbody>\n",
       "    <tr>\n",
       "      <th>0</th>\n",
       "      <td>4</td>\n",
       "      <td>Afghanistan</td>\n",
       "      <td>Afghanistan</td>\n",
       "      <td>AF</td>\n",
       "      <td>AFG</td>\n",
       "    </tr>\n",
       "    <tr>\n",
       "      <th>1</th>\n",
       "      <td>8</td>\n",
       "      <td>Albania</td>\n",
       "      <td>Albania</td>\n",
       "      <td>AL</td>\n",
       "      <td>ALB</td>\n",
       "    </tr>\n",
       "    <tr>\n",
       "      <th>2</th>\n",
       "      <td>12</td>\n",
       "      <td>Algeria</td>\n",
       "      <td>Algeria</td>\n",
       "      <td>DZ</td>\n",
       "      <td>DZA</td>\n",
       "    </tr>\n",
       "    <tr>\n",
       "      <th>3</th>\n",
       "      <td>16</td>\n",
       "      <td>American Samoa</td>\n",
       "      <td>American Samoa</td>\n",
       "      <td>AS</td>\n",
       "      <td>ASM</td>\n",
       "    </tr>\n",
       "    <tr>\n",
       "      <th>4</th>\n",
       "      <td>20</td>\n",
       "      <td>Andorra</td>\n",
       "      <td>Andorra</td>\n",
       "      <td>AD</td>\n",
       "      <td>AND</td>\n",
       "    </tr>\n",
       "  </tbody>\n",
       "</table>\n",
       "</div>"
      ],
      "text/plain": [
       "   country_code country_name_abbreviation country_name_full iso_2digit_alpha  \\\n",
       "0             4               Afghanistan       Afghanistan               AF   \n",
       "1             8                   Albania           Albania               AL   \n",
       "2            12                   Algeria           Algeria               DZ   \n",
       "3            16            American Samoa    American Samoa               AS   \n",
       "4            20                   Andorra           Andorra               AD   \n",
       "\n",
       "  iso_3digit_alpha  \n",
       "0              AFG  \n",
       "1              ALB  \n",
       "2              DZA  \n",
       "3              ASM  \n",
       "4              AND  "
      ]
     },
     "metadata": {},
     "output_type": "display_data"
    },
    {
     "data": {
      "text/html": [
       "<small>schema: country_code:long,country_name_abbreviation:str,country_name_full:str,iso_2digit_alpha:str,iso_3digit_alpha:str</small>"
      ],
      "text/plain": [
       "<IPython.core.display.HTML object>"
      ]
     },
     "metadata": {},
     "output_type": "display_data"
    }
   ],
   "source": [
    "%%fsql\n",
    "SELECT * FROM countries\n",
    "LIMIT 5\n",
    "PRINT"
   ]
  },
  {
   "cell_type": "markdown",
   "id": "16fe3c5d",
   "metadata": {},
   "source": [
    "## Tomatoes\n",
    "\n",
    "export path needs to be absoluted, so a mv command is needed afterwards"
   ]
  },
  {
   "cell_type": "code",
   "execution_count": 10,
   "id": "6754f473",
   "metadata": {},
   "outputs": [
    {
     "name": "stdout",
     "output_type": "stream",
     "text": [
      "ANTLR runtime and generated code versions disagree: 4.11.1!=4.10.1\n",
      "ANTLR runtime and generated code versions disagree: 4.11.1!=4.10.1\n"
     ]
    }
   ],
   "source": [
    "%%fsql\n",
    "\n",
    "SELECT ie_last.t AS year,\n",
    "ci.iso_3digit_alpha AS import_country_iso3,\n",
    "ce.iso_3digit_alpha  AS export_country_iso3,\n",
    "ie_last.v AS value,\n",
    "ie_last.q AS quantity\n",
    "FROM ie_last\n",
    "INNER JOIN countries ci ON ci.country_code = ie_last.i\n",
    "INNER JOIN countries ce ON ce.country_code = ie_last.j\n",
    "WHERE k = {{TOMATOES}}\n",
    "YIELD DATAFRAME AS tomatoes_data\n",
    "SAVE OVERWRITE \"/tmp/IE2020_tomatoes.csv\" (header=true)"
   ]
  },
  {
   "cell_type": "code",
   "execution_count": 30,
   "id": "0a73b80f",
   "metadata": {},
   "outputs": [
    {
     "name": "stdout",
     "output_type": "stream",
     "text": [
      "ANTLR runtime and generated code versions disagree: 4.11.1!=4.10.1\n",
      "ANTLR runtime and generated code versions disagree: 4.11.1!=4.10.1\n"
     ]
    }
   ],
   "source": [
    "%%fsql\n",
    "\n",
    "SELECT * FROM tomatoes_data\n",
    "SAVE OVERWRITE \"/tmp/IE2020_tomatoes.csv\" (header=true)"
   ]
  },
  {
   "cell_type": "markdown",
   "id": "f9b5dc46",
   "metadata": {},
   "source": [
    "tomatoes_data.to_csv(\"../dataset/IE2020_tomatoes.csv\")"
   ]
  },
  {
   "cell_type": "markdown",
   "id": "d1a4043c",
   "metadata": {},
   "source": [
    "## Saffron"
   ]
  },
  {
   "cell_type": "code",
   "execution_count": 34,
   "id": "8efb786b",
   "metadata": {},
   "outputs": [
    {
     "name": "stdout",
     "output_type": "stream",
     "text": [
      "ANTLR runtime and generated code versions disagree: 4.11.1!=4.10.1\n",
      "ANTLR runtime and generated code versions disagree: 4.11.1!=4.10.1\n"
     ]
    }
   ],
   "source": [
    "%%fsql\n",
    "\n",
    "SELECT ie_last.t AS year,\n",
    "ci.iso_3digit_alpha AS import_country_iso3,\n",
    "ce.iso_3digit_alpha  AS export_country_iso3,\n",
    "ie_last.v AS value,\n",
    "ie_last.q AS quantity\n",
    "FROM ie_last\n",
    "INNER JOIN countries ci ON ci.country_code = ie_last.i\n",
    "INNER JOIN countries ce ON ce.country_code = ie_last.j\n",
    "WHERE k = {{SAFFRON}}\n",
    "YIELD DATAFRAME AS tomatoes_data\n",
    "SAVE OVERWRITE \"/tmp/IE2020_saffron.csv\" (header=true)"
   ]
  },
  {
   "cell_type": "code",
   "execution_count": 37,
   "id": "3603e887",
   "metadata": {},
   "outputs": [],
   "source": [
    "!mv /tmp/IE2020_saffron.csv ../dataset/"
   ]
  },
  {
   "cell_type": "markdown",
   "id": "1b17b425",
   "metadata": {},
   "source": [
    "## Ice Cream"
   ]
  },
  {
   "cell_type": "code",
   "execution_count": 35,
   "id": "b1822abb",
   "metadata": {
    "scrolled": false
   },
   "outputs": [
    {
     "name": "stdout",
     "output_type": "stream",
     "text": [
      "ANTLR runtime and generated code versions disagree: 4.11.1!=4.10.1\n",
      "ANTLR runtime and generated code versions disagree: 4.11.1!=4.10.1\n"
     ]
    }
   ],
   "source": [
    "%%fsql\n",
    "\n",
    "SELECT ie_last.t AS year,\n",
    "ci.iso_3digit_alpha AS import_country_iso3,\n",
    "ce.iso_3digit_alpha  AS export_country_iso3,\n",
    "ie_last.v AS value,\n",
    "ie_last.q AS quantity\n",
    "FROM ie_last\n",
    "INNER JOIN countries ci ON ci.country_code = ie_last.i\n",
    "INNER JOIN countries ce ON ce.country_code = ie_last.j\n",
    "WHERE k = {{ICECREAM}}\n",
    "YIELD DATAFRAME AS tomatoes_data\n",
    "SAVE OVERWRITE \"/tmp/IE2020_icecream.csv\" (header=true)"
   ]
  },
  {
   "cell_type": "code",
   "execution_count": 38,
   "id": "32de4b40",
   "metadata": {},
   "outputs": [],
   "source": [
    "!mv /tmp/IE2020_icecream.csv ../dataset/"
   ]
  },
  {
   "cell_type": "markdown",
   "id": "1be513a0",
   "metadata": {},
   "source": [
    "## Beer"
   ]
  },
  {
   "cell_type": "code",
   "execution_count": 36,
   "id": "df09b2e2",
   "metadata": {},
   "outputs": [
    {
     "name": "stdout",
     "output_type": "stream",
     "text": [
      "ANTLR runtime and generated code versions disagree: 4.11.1!=4.10.1\n",
      "ANTLR runtime and generated code versions disagree: 4.11.1!=4.10.1\n"
     ]
    }
   ],
   "source": [
    "%%fsql\n",
    "\n",
    "SELECT ie_last.t AS year,\n",
    "ci.iso_3digit_alpha AS import_country_iso3,\n",
    "ce.iso_3digit_alpha  AS export_country_iso3,\n",
    "ie_last.v AS value,\n",
    "ie_last.q AS quantity\n",
    "FROM ie_last\n",
    "INNER JOIN countries ci ON ci.country_code = ie_last.i\n",
    "INNER JOIN countries ce ON ce.country_code = ie_last.j\n",
    "WHERE k = {{BEER}}\n",
    "YIELD DATAFRAME AS tomatoes_data\n",
    "SAVE OVERWRITE \"/tmp/IE2020_beer.csv\" (header=true)"
   ]
  },
  {
   "cell_type": "code",
   "execution_count": 39,
   "id": "ea003600",
   "metadata": {},
   "outputs": [],
   "source": [
    "!mv /tmp/IE2020_beer.csv ../dataset/"
   ]
  }
 ],
 "metadata": {
  "kernelspec": {
   "display_name": "Python 3 (ipykernel)",
   "language": "python",
   "name": "python3"
  },
  "language_info": {
   "codemirror_mode": {
    "name": "ipython",
    "version": 3
   },
   "file_extension": ".py",
   "mimetype": "text/x-python",
   "name": "python",
   "nbconvert_exporter": "python",
   "pygments_lexer": "ipython3",
   "version": "3.10.4"
  }
 },
 "nbformat": 4,
 "nbformat_minor": 5
}

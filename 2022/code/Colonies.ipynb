{
 "cells": [
  {
   "cell_type": "markdown",
   "id": "52d4743e-f1a8-456e-98ee-5100a3932bbc",
   "metadata": {},
   "source": [
    "# Colonies\n",
    "\n",
    "Data Source: http://www.cepii.fr/"
   ]
  },
  {
   "cell_type": "code",
   "execution_count": 1,
   "id": "91ca7413-0fb6-4a55-8438-325edb2e0026",
   "metadata": {},
   "outputs": [],
   "source": [
    "import pandas as pd\n",
    "country_info = pd.read_excel(\"../../data/geo_cepii.xls\")"
   ]
  },
  {
   "cell_type": "code",
   "execution_count": 2,
   "id": "0cf986e1-abd7-43f8-b609-686781d02846",
   "metadata": {
    "scrolled": true
   },
   "outputs": [
    {
     "name": "stdout",
     "output_type": "stream",
     "text": [
      "<class 'pandas.core.frame.DataFrame'>\n",
      "RangeIndex: 238 entries, 0 to 237\n",
      "Data columns (total 34 columns):\n",
      " #   Column            Non-Null Count  Dtype  \n",
      "---  ------            --------------  -----  \n",
      " 0   iso2              237 non-null    object \n",
      " 1   iso3              238 non-null    object \n",
      " 2   cnum              238 non-null    int64  \n",
      " 3   country           238 non-null    object \n",
      " 4   pays              238 non-null    object \n",
      " 5   area              238 non-null    int64  \n",
      " 6   dis_int           238 non-null    float64\n",
      " 7   landlocked        238 non-null    int64  \n",
      " 8   continent         238 non-null    object \n",
      " 9   city_en           238 non-null    object \n",
      " 10  city_fr           238 non-null    object \n",
      " 11  lat               238 non-null    float64\n",
      " 12  lon               238 non-null    float64\n",
      " 13  cap               238 non-null    int64  \n",
      " 14  maincity          238 non-null    int64  \n",
      " 15  citynum           238 non-null    object \n",
      " 16  langoff_1         238 non-null    object \n",
      " 17  langoff_2         238 non-null    object \n",
      " 18  langoff_3         238 non-null    object \n",
      " 19  lang20_1          238 non-null    object \n",
      " 20  lang20_2          238 non-null    object \n",
      " 21  lang20_3          238 non-null    object \n",
      " 22  lang20_4          238 non-null    object \n",
      " 23  lang9_1           238 non-null    object \n",
      " 24  lang9_2           238 non-null    object \n",
      " 25  lang9_3           238 non-null    object \n",
      " 26  lang9_4           238 non-null    object \n",
      " 27  colonizer1        238 non-null    object \n",
      " 28  colonizer2        238 non-null    object \n",
      " 29  colonizer3        238 non-null    object \n",
      " 30  colonizer4        238 non-null    object \n",
      " 31  short_colonizer1  238 non-null    object \n",
      " 32  short_colonizer2  238 non-null    object \n",
      " 33  short_colonizer3  238 non-null    object \n",
      "dtypes: float64(3), int64(5), object(26)\n",
      "memory usage: 63.3+ KB\n"
     ]
    }
   ],
   "source": [
    "country_info.info()"
   ]
  },
  {
   "cell_type": "markdown",
   "id": "625b0ec4",
   "metadata": {},
   "source": [
    "Some of the columns are objects and end up being mixed type.. this is not really playing well with sql.. "
   ]
  },
  {
   "cell_type": "code",
   "execution_count": 3,
   "id": "43c03b0a-a235-4360-82fa-a2cba42b74be",
   "metadata": {},
   "outputs": [],
   "source": [
    "country_col = country_info[[\"iso3\",\"colonizer1\",\"colonizer2\",\"colonizer3\",\"colonizer4\",\"short_colonizer1\",\"short_colonizer2\",\"short_colonizer3\"]]"
   ]
  },
  {
   "cell_type": "markdown",
   "id": "94c49fee-870d-41e6-a791-9ee37d8a54e9",
   "metadata": {},
   "source": [
    "This doesn't work in jupyter lab.. just in jupyter notebook"
   ]
  },
  {
   "cell_type": "code",
   "execution_count": 4,
   "id": "430bafef-0921-4f9a-9c27-7a5eaa5a2980",
   "metadata": {},
   "outputs": [
    {
     "data": {
      "application/javascript": [
       "\n",
       "require([\"codemirror/lib/codemirror\"]);\n",
       "function set(str) {\n",
       "    var obj = {}, words = str.split(\" \");\n",
       "    for (var i = 0; i < words.length; ++i) obj[words[i]] = true;\n",
       "    return obj;\n",
       "  }\n",
       "var fugue_keywords = \"fill hash rand even presort persist broadcast params process output outtransform rowcount concurrency prepartition zip print title save append parquet csv json single checkpoint weak strong deterministic yield connect sample seed take sub callback dataframe file\";\n",
       "CodeMirror.defineMIME(\"text/x-fsql\", {\n",
       "    name: \"sql\",\n",
       "    keywords: set(fugue_keywords + \" add after all alter analyze and anti archive array as asc at between bucket buckets by cache cascade case cast change clear cluster clustered codegen collection column columns comment commit compact compactions compute concatenate cost create cross cube current current_date current_timestamp database databases data dbproperties defined delete delimited deny desc describe dfs directories distinct distribute drop else end escaped except exchange exists explain export extended external false fields fileformat first following for format formatted from full function functions global grant group grouping having if ignore import in index indexes inner inpath inputformat insert intersect interval into is items join keys last lateral lazy left like limit lines list load local location lock locks logical macro map minus msck natural no not null nulls of on optimize option options or order out outer outputformat over overwrite partition partitioned partitions percent preceding principals purge range recordreader recordwriter recover reduce refresh regexp rename repair replace reset restrict revoke right rlike role roles rollback rollup row rows schema schemas select semi separated serde serdeproperties set sets show skewed sort sorted start statistics stored stratify struct table tables tablesample tblproperties temp temporary terminated then to touch transaction transactions transform true truncate unarchive unbounded uncache union unlock unset use using values view when where window with\"),\n",
       "    builtin: set(\"date datetime tinyint smallint int bigint boolean float double string binary timestamp decimal array map struct uniontype delimited serde sequencefile textfile rcfile inputformat outputformat\"),\n",
       "    atoms: set(\"false true null\"),\n",
       "    operatorChars: /^[*\\/+\\-%<>!=~&|^]/,\n",
       "    dateSQL: set(\"time\"),\n",
       "    support: set(\"ODBCdotTable doubleQuote zerolessFloat\")\n",
       "  });\n",
       "\n",
       "CodeMirror.modeInfo.push( {\n",
       "            name: \"Fugue SQL\",\n",
       "            mime: \"text/x-fsql\",\n",
       "            mode: \"sql\"\n",
       "          } );\n",
       "\n",
       "require(['notebook/js/codecell'], function(codecell) {\n",
       "    codecell.CodeCell.options_default.highlight_modes['magic_text/x-fsql'] = {'reg':[/%%fsql/]} ;\n",
       "    Jupyter.notebook.events.on('kernel_ready.Kernel', function(){\n",
       "    Jupyter.notebook.get_cells().map(function(cell){\n",
       "        if (cell.cell_type == 'code'){ cell.auto_highlight(); } }) ;\n",
       "    });\n",
       "  });\n"
      ],
      "text/plain": [
       "<IPython.core.display.Javascript object>"
      ]
     },
     "metadata": {},
     "output_type": "display_data"
    }
   ],
   "source": [
    "from fugue_notebook import setup\n",
    "import fugue_duckdb\n",
    "\n",
    "setup()"
   ]
  },
  {
   "cell_type": "code",
   "execution_count": 5,
   "id": "db5faab7-2741-4c58-bc0b-0703bcc649ab",
   "metadata": {},
   "outputs": [
    {
     "name": "stdout",
     "output_type": "stream",
     "text": [
      "ANTLR runtime and generated code versions disagree: 4.11.1!=4.10.1\n",
      "ANTLR runtime and generated code versions disagree: 4.11.1!=4.10.1\n"
     ]
    },
    {
     "data": {
      "text/html": [
       "<div>\n",
       "<style scoped>\n",
       "    .dataframe tbody tr th:only-of-type {\n",
       "        vertical-align: middle;\n",
       "    }\n",
       "\n",
       "    .dataframe tbody tr th {\n",
       "        vertical-align: top;\n",
       "    }\n",
       "\n",
       "    .dataframe thead th {\n",
       "        text-align: right;\n",
       "    }\n",
       "</style>\n",
       "<table border=\"1\" class=\"dataframe\">\n",
       "  <thead>\n",
       "    <tr style=\"text-align: right;\">\n",
       "      <th></th>\n",
       "      <th>iso3</th>\n",
       "      <th>colonizer1</th>\n",
       "      <th>colonizer2</th>\n",
       "      <th>colonizer3</th>\n",
       "      <th>colonizer4</th>\n",
       "      <th>short_colonizer1</th>\n",
       "      <th>short_colonizer2</th>\n",
       "      <th>short_colonizer3</th>\n",
       "    </tr>\n",
       "  </thead>\n",
       "  <tbody>\n",
       "    <tr>\n",
       "      <th>0</th>\n",
       "      <td>ABW</td>\n",
       "      <td>NLD</td>\n",
       "      <td>.</td>\n",
       "      <td>.</td>\n",
       "      <td>.</td>\n",
       "      <td>.</td>\n",
       "      <td>.</td>\n",
       "      <td>.</td>\n",
       "    </tr>\n",
       "    <tr>\n",
       "      <th>1</th>\n",
       "      <td>AFG</td>\n",
       "      <td>.</td>\n",
       "      <td>.</td>\n",
       "      <td>.</td>\n",
       "      <td>.</td>\n",
       "      <td>GBR</td>\n",
       "      <td>.</td>\n",
       "      <td>.</td>\n",
       "    </tr>\n",
       "    <tr>\n",
       "      <th>2</th>\n",
       "      <td>AGO</td>\n",
       "      <td>PRT</td>\n",
       "      <td>.</td>\n",
       "      <td>.</td>\n",
       "      <td>.</td>\n",
       "      <td>.</td>\n",
       "      <td>.</td>\n",
       "      <td>.</td>\n",
       "    </tr>\n",
       "    <tr>\n",
       "      <th>3</th>\n",
       "      <td>AIA</td>\n",
       "      <td>GBR</td>\n",
       "      <td>.</td>\n",
       "      <td>.</td>\n",
       "      <td>.</td>\n",
       "      <td>.</td>\n",
       "      <td>.</td>\n",
       "      <td>.</td>\n",
       "    </tr>\n",
       "    <tr>\n",
       "      <th>4</th>\n",
       "      <td>ALB</td>\n",
       "      <td>TUR</td>\n",
       "      <td>.</td>\n",
       "      <td>.</td>\n",
       "      <td>.</td>\n",
       "      <td>.</td>\n",
       "      <td>.</td>\n",
       "      <td>.</td>\n",
       "    </tr>\n",
       "    <tr>\n",
       "      <th>5</th>\n",
       "      <td>AND</td>\n",
       "      <td>.</td>\n",
       "      <td>.</td>\n",
       "      <td>.</td>\n",
       "      <td>.</td>\n",
       "      <td>.</td>\n",
       "      <td>.</td>\n",
       "      <td>.</td>\n",
       "    </tr>\n",
       "    <tr>\n",
       "      <th>6</th>\n",
       "      <td>ANT</td>\n",
       "      <td>NLD</td>\n",
       "      <td>.</td>\n",
       "      <td>.</td>\n",
       "      <td>.</td>\n",
       "      <td>.</td>\n",
       "      <td>.</td>\n",
       "      <td>.</td>\n",
       "    </tr>\n",
       "    <tr>\n",
       "      <th>7</th>\n",
       "      <td>ARE</td>\n",
       "      <td>GBR</td>\n",
       "      <td>.</td>\n",
       "      <td>.</td>\n",
       "      <td>.</td>\n",
       "      <td>.</td>\n",
       "      <td>.</td>\n",
       "      <td>.</td>\n",
       "    </tr>\n",
       "    <tr>\n",
       "      <th>8</th>\n",
       "      <td>ARG</td>\n",
       "      <td>ESP</td>\n",
       "      <td>.</td>\n",
       "      <td>.</td>\n",
       "      <td>.</td>\n",
       "      <td>.</td>\n",
       "      <td>.</td>\n",
       "      <td>.</td>\n",
       "    </tr>\n",
       "    <tr>\n",
       "      <th>9</th>\n",
       "      <td>ARM</td>\n",
       "      <td>TUR</td>\n",
       "      <td>RUS</td>\n",
       "      <td>.</td>\n",
       "      <td>.</td>\n",
       "      <td>.</td>\n",
       "      <td>.</td>\n",
       "      <td>.</td>\n",
       "    </tr>\n",
       "  </tbody>\n",
       "</table>\n",
       "</div>"
      ],
      "text/plain": [
       "  iso3 colonizer1 colonizer2 colonizer3 colonizer4 short_colonizer1  \\\n",
       "0  ABW        NLD          .          .          .                .   \n",
       "1  AFG          .          .          .          .              GBR   \n",
       "2  AGO        PRT          .          .          .                .   \n",
       "3  AIA        GBR          .          .          .                .   \n",
       "4  ALB        TUR          .          .          .                .   \n",
       "5  AND          .          .          .          .                .   \n",
       "6  ANT        NLD          .          .          .                .   \n",
       "7  ARE        GBR          .          .          .                .   \n",
       "8  ARG        ESP          .          .          .                .   \n",
       "9  ARM        TUR        RUS          .          .                .   \n",
       "\n",
       "  short_colonizer2 short_colonizer3  \n",
       "0                .                .  \n",
       "1                .                .  \n",
       "2                .                .  \n",
       "3                .                .  \n",
       "4                .                .  \n",
       "5                .                .  \n",
       "6                .                .  \n",
       "7                .                .  \n",
       "8                .                .  \n",
       "9                .                .  "
      ]
     },
     "metadata": {},
     "output_type": "display_data"
    },
    {
     "data": {
      "text/html": [
       "<small>schema: iso3:str,colonizer1:str,colonizer2:str,colonizer3:str,colonizer4:str,short_colonizer1:str,short_colonizer2:str,short_colonizer3:str</small>"
      ],
      "text/plain": [
       "<IPython.core.display.HTML object>"
      ]
     },
     "metadata": {},
     "output_type": "display_data"
    }
   ],
   "source": [
    "%%fsql\n",
    "SELECT * FROM country_col\n",
    "\n",
    "\n",
    "PRINT"
   ]
  },
  {
   "cell_type": "markdown",
   "id": "14b07158-8d20-4c3a-9182-c3d5eac5182d",
   "metadata": {},
   "source": [
    "Took a while to debug.. forgot the group by and the query still worked but wo an error and with funny results"
   ]
  },
  {
   "cell_type": "code",
   "execution_count": 6,
   "id": "08c8e2a1",
   "metadata": {},
   "outputs": [
    {
     "name": "stdout",
     "output_type": "stream",
     "text": [
      "ANTLR runtime and generated code versions disagree: 4.11.1!=4.10.1\n",
      "ANTLR runtime and generated code versions disagree: 4.11.1!=4.10.1\n"
     ]
    }
   ],
   "source": [
    "%%fsql\n",
    "SELECT colonies.*\n",
    ", count_col1 + count_col2 + count_col3 + count_col4 AS total_col FROM\n",
    "(SELECT c.iso3\n",
    "    , count(c1.iso3) AS count_col1\n",
    "    , count(c2.iso3) AS count_col2\n",
    "    , count(c3.iso3) AS count_col3\n",
    "    , count(c4.iso3) AS count_col4\n",
    "    , count(sc1.iso3) AS count_scol1\n",
    "    , count(sc2.iso3) AS count_scol2\n",
    "    , count(sc3.iso3) AS count_scol3\n",
    "    , CASE WHEN (c.colonizer1 == 'None' AND c.short_colonizer1 == 'None') THEN 1 ELSE 0 END AS FREE\n",
    "FROM country_col AS c\n",
    "LEFT JOIN country_col AS c1 ON c1.colonizer1 = c.iso3\n",
    "LEFT JOIN country_col AS c2 ON c2.colonizer2 = c.iso3\n",
    "LEFT JOIN country_col AS c3 ON c3.colonizer3 = c.iso3\n",
    "LEFT JOIN country_col AS c4 ON c4.colonizer4 = c.iso3\n",
    "LEFT JOIN country_col AS sc1 ON sc1.short_colonizer1 = c.iso3\n",
    "LEFT JOIN country_col AS sc2 ON sc2.short_colonizer2 = c.iso3\n",
    "LEFT JOIN country_col AS sc3 ON sc3.short_colonizer3 = c.iso3\n",
    "GROUP BY c.iso3) AS colonies\n",
    "YIELD DATAFRAME AS colonies\n",
    "SAVE OVERWRITE \"/tmp/colonies.csv\" (header=true)"
   ]
  },
  {
   "cell_type": "code",
   "execution_count": 7,
   "id": "c00decd4",
   "metadata": {},
   "outputs": [],
   "source": [
    "!mv /tmp/colonies.csv ../dataset/"
   ]
  },
  {
   "cell_type": "code",
   "execution_count": null,
   "id": "5dc38c35-fd9a-4758-b3ce-c08d5eadb489",
   "metadata": {},
   "outputs": [],
   "source": []
  }
 ],
 "metadata": {
  "kernelspec": {
   "display_name": "Python 3 (ipykernel)",
   "language": "python",
   "name": "python3"
  },
  "language_info": {
   "codemirror_mode": {
    "name": "ipython",
    "version": 3
   },
   "file_extension": ".py",
   "mimetype": "text/x-python",
   "name": "python",
   "nbconvert_exporter": "python",
   "pygments_lexer": "ipython3",
   "version": "3.10.4"
  }
 },
 "nbformat": 4,
 "nbformat_minor": 5
}
